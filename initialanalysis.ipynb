{
 "metadata": {
  "language_info": {
   "codemirror_mode": {
    "name": "ipython",
    "version": 3
   },
   "file_extension": ".py",
   "mimetype": "text/x-python",
   "name": "python",
   "nbconvert_exporter": "python",
   "pygments_lexer": "ipython3",
   "version": "3.7.2-final"
  },
  "orig_nbformat": 2,
  "kernelspec": {
   "name": "Python 3.7.2 32-bit",
   "display_name": "Python 3.7.2 32-bit",
   "metadata": {
    "interpreter": {
     "hash": "cacb3c4159d98a9ff1229c9b1570f12cb6017e2a380f754dbe8c3837432bb66c"
    }
   }
  }
 },
 "nbformat": 4,
 "nbformat_minor": 2,
 "cells": [
  {
   "cell_type": "code",
   "execution_count": 6,
   "metadata": {},
   "outputs": [],
   "source": [
    "import pandas as pd\n",
    "import numpy as np\n",
    "import matplotlib.pyplot as plt \n",
    "import sys \n",
    "import os "
   ]
  },
  {
   "cell_type": "code",
   "execution_count": 37,
   "metadata": {
    "tags": []
   },
   "outputs": [
    {
     "output_type": "stream",
     "name": "stdout",
     "text": "        Unnamed: 0         FTHG         FTAG        HTHG        HTAG\ncount   958.000000  1037.000000  1037.000000  874.000000  874.000000\nmean   4872.102296     1.599807     1.133076    0.715103    0.477117\nstd    2772.275110     1.322846     1.174716    0.856256    0.708355\nmin       4.000000     0.000000     0.000000    0.000000    0.000000\n25%    2485.750000     1.000000     0.000000    0.000000    0.000000\n50%    4885.500000     1.000000     1.000000    0.000000    0.000000\n75%    7274.750000     2.000000     2.000000    1.000000    1.000000\nmax    9658.000000     7.000000     6.000000    5.000000    4.000000\n"
    }
   ],
   "source": [
    "results_93_to_18=pd.read_csv('../liverpoolfcstats.csv')\n",
    "results_18_to_21=pd.read_csv('../liverpoolfcstats2018onwards.csv')\n",
    "\n",
    "results_18_to_21.head()\n",
    "\n",
    "# Combine the two datasets  \n",
    "results = results_93_to_18.append(results_18_to_21)\n",
    "print(results.describe())"
   ]
  },
  {
   "cell_type": "code",
   "execution_count": 39,
   "metadata": {
    "tags": []
   },
   "outputs": [
    {
     "output_type": "stream",
     "name": "stdout",
     "text": "[Liverpool]           519\n[Chelsea]              28\n[Man United]           27\n[Arsenal]              27\n[Everton]              27\n[Tottenham]            25\n[Newcastle]            25\n[West Ham]             24\n[Aston Villa]          24\n[Man City]             22\n[Southampton]          20\n[Blackburn]            17\n[Sunderland]           16\n[Leicester]            14\n[Fulham]               14\n[Middlesbrough]        13\n[Bolton]               13\n[West Brom]            12\n[Leeds]                11\n[Stoke]                10\n[Crystal Palace]       10\n[Charlton]              8\n[Norwich]               8\n[Wigan]                 8\n[Coventry]              8\n[Sheffield Weds]        7\n[Wimbledon]             7\n[Derby]                 7\n[Swansea]               7\n[Watford]               7\n[Birmingham]            7\n[Portsmouth]            7\n[Burnley]               6\n[QPR]                   6\n[Wolves]                6\n[Bournemouth]           5\n[Hull]                  5\n[Nott&#39;m Forest]         4\n[Ipswich]               4\n[Sheffield United]      3\n[Reading]               3\n[Brighton]              3\n[Huddersfield]          2\n[Spurs]                 2\n[Bradford]              2\n[Cardiff]               2\n[Blackpool]             1\n[Swindon]               1\n[Middlesboro]           1\n[Barnsley]              1\n[Oldham]                1\nName: HomeTeam, dtype: int64\n"
    }
   ],
   "source": [
    "# Count number of times we've played teams at home\n",
    "home_team = results['HomeTeam'].str.split('|').value_counts()\n",
    "print(home_team)"
   ]
  },
  {
   "cell_type": "code",
   "execution_count": 64,
   "metadata": {
    "tags": []
   },
   "outputs": [
    {
     "output_type": "stream",
     "name": "stdout",
     "text": "Total home goals scored: 1044\nTotal home goals conceded: 415\nTotal Home Games: HomeTeam\nArsenal              27\nAston Villa          24\nBarnsley              1\nBirmingham            7\nBlackburn            17\nBlackpool             1\nBolton               13\nBournemouth           5\nBradford              2\nBrighton              3\nBurnley               6\nCardiff               2\nCharlton              8\nChelsea              28\nCoventry              8\nCrystal Palace       10\nDerby                 7\nEverton              27\nFulham               14\nHuddersfield          2\nHull                  5\nIpswich               4\nLeeds                11\nLeicester            14\nLiverpool           519\nMan City             22\nMan United           27\nMiddlesboro           1\nMiddlesbrough        13\nNewcastle            25\nNorwich               8\nNott&#39;m Forest         4\nOldham                1\nPortsmouth            7\nQPR                   6\nReading               3\nSheffield United      3\nSheffield Weds        7\nSouthampton          20\nSpurs                 2\nStoke                10\nSunderland           16\nSwansea               7\nSwindon               1\nTottenham            25\nWatford               7\nWest Brom            12\nWest Ham             24\nWigan                 8\nWimbledon             7\nWolves                6\nName: HomeTeam, dtype: int64\n"
    }
   ],
   "source": [
    "# Liverpool's total home game stats\n",
    "total_home_goals = results[results[\"HomeTeam\"] == \"Liverpool\"][\"FTHG\"].sum()\n",
    "total_home_goals_conc= results[results[\"HomeTeam\"] == \"Liverpool\"][\"FTAG\"].sum()\n",
    "total_home_games = results.groupby(\"HomeTeam\")[\"HomeTeam\"].count()\n",
    "\n",
    "print(\"Total home goals scored: {}\".format(total_home_goals))\n",
    "print(\"Total home goals conceded: {}\".format(total_home_goals_conc))\n",
    "print(\"Total Home Games: {}\".format(total_home_games)) #519\n",
    "\n"
   ]
  },
  {
   "cell_type": "code",
   "execution_count": 65,
   "metadata": {
    "tags": []
   },
   "outputs": [
    {
     "output_type": "stream",
     "name": "stdout",
     "text": "Total away goals scored: 760\nTotal away goals conceded: 615\nTotal Away Games: AwayTeam\nArsenal              28\nAston Villa          24\nBarnsley              1\nBirmingham            7\nBlackburn            17\nBlackpool             1\nBolton               13\nBournemouth           5\nBradford              2\nBrighton              3\nBurnley               6\nCardiff               2\nCharlton              8\nChelsea              27\nCoventry              8\nCrystal Palace       10\nDerby                 7\nEverton              27\nFulham               14\nHuddersfield          2\nHull                  5\nIpswich               4\nLeeds                12\nLeicester            14\nLiverpool           518\nMan City             22\nMan United           27\nMiddlesboro           1\nMiddlesbrough        13\nNewcastle            25\nNorwich               8\nNott&#39;m Forest         4\nOldham                1\nPortsmouth            7\nQPR                   6\nReading               3\nSheffield United      3\nSheffield Weds        7\nSouthampton          20\nSpurs                 2\nStoke                10\nSunderland           16\nSwansea               7\nSwindon               1\nTottenham            25\nWatford               7\nWest Brom            12\nWest Ham             24\nWigan                 8\nWimbledon             7\nWolves                6\nName: AwayTeam, dtype: int64\n"
    }
   ],
   "source": [
    "\n",
    "# Liverpool's total away game stats\n",
    "total_away_goals=results[results[\"AwayTeam\"] == \"Liverpool\"][\"FTAG\"].sum()\n",
    "total_away_goals_conc= results[results[\"AwayTeam\"] == \"Liverpool\"][\"FTHG\"].sum()\n",
    "total_away_games = results.groupby(\"AwayTeam\")[\"AwayTeam\"].count()\n",
    "\n",
    "print(\"Total away goals scored: {}\".format(total_away_goals))\n",
    "print(\"Total away goals conceded: {}\".format(total_away_goals_conc))\n",
    "print(\"Total Away Games: {}\".format(total_away_games)) #518\n",
    "\n",
    "\n"
   ]
  },
  {
   "cell_type": "code",
   "execution_count": 77,
   "metadata": {
    "tags": []
   },
   "outputs": [
    {
     "output_type": "stream",
     "name": "stdout",
     "text": "0\n"
    }
   ],
   "source": [
    "# For season 2019-2020, total home goals scored by Liverpool\n",
    "home_19_20 = results[(results[\"HomeTeam\"]==\"Liverpool\") & results[\"Season\"]==\"2019-20\"][\"FTHG\"].sum()\n",
    "print(home_19_20)"
   ]
  },
  {
   "cell_type": "code",
   "execution_count": null,
   "metadata": {},
   "outputs": [],
   "source": []
  }
 ]
}