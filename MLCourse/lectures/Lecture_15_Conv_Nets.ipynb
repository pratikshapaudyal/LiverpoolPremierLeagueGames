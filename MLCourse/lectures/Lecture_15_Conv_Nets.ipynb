{
 "cells": [
  {
   "cell_type": "markdown",
   "metadata": {},
   "source": [
    "## Convolutional Neural Networks\n",
    "\n",
    "Again, I am not going to even try to do a better job than this post...:\n",
    "\n",
    "https://ujjwalkarn.me/2016/08/11/intuitive-explanation-convnets/\n",
    "\n",
    "Now, let's review some of the famous CNN architectures on starting on p.367 of Hands on Machine Learning.\n",
    "\n",
    "## Python Conv Net"
   ]
  },
  {
   "cell_type": "code",
   "execution_count": 1,
   "metadata": {},
   "outputs": [
    {
     "name": "stderr",
     "output_type": "stream",
     "text": [
      "Using TensorFlow backend.\n"
     ]
    }
   ],
   "source": [
    "from keras.models import Sequential, Model\n",
    "from keras.layers import Dense, Activation, Conv2D, MaxPooling2D, Flatten, BatchNormalization, BatchNormalization, Dropout\n",
    "from keras.datasets import mnist\n",
    "from sklearn.metrics import confusion_matrix\n",
    "from keras import applications\n",
    "from keras.preprocessing.image import ImageDataGenerator\n",
    "from skimage.transform import rescale, resize\n",
    "import matplotlib.pyplot as plt\n",
    "from keras.preprocessing.image import ImageDataGenerator\n",
    "%matplotlib inline\n",
    "import numpy as np"
   ]
  },
  {
   "cell_type": "code",
   "execution_count": 2,
   "metadata": {},
   "outputs": [],
   "source": [
    "(x_train, y_train), (x_test, y_test) = mnist.load_data()\n",
    "\n",
    "def scale_image(images):\n",
    "    images = images.reshape(images.shape[0], 28, 28, 1)\n",
    "    images = images.astype('float32')\n",
    "    scaled_images = images / 255\n",
    "    return scaled_images\n",
    "\n",
    "x_train = scale_image(x_train)\n",
    "x_test = scale_image(x_test)"
   ]
  },
  {
   "cell_type": "code",
   "execution_count": 3,
   "metadata": {},
   "outputs": [
    {
     "data": {
      "text/plain": [
       "(60000, 28, 28, 1)"
      ]
     },
     "execution_count": 3,
     "metadata": {},
     "output_type": "execute_result"
    }
   ],
   "source": [
    "x_train.shape"
   ]
  },
  {
   "cell_type": "code",
   "execution_count": 4,
   "metadata": {},
   "outputs": [],
   "source": [
    "model = Sequential()\n",
    "\n",
    "model.add(Conv2D(32, kernel_size=(5, 5), activation='elu', input_shape=(28, 28, 1), kernel_initializer='he_normal'))\n",
    "model.add(BatchNormalization())\n",
    "model.add(MaxPooling2D(pool_size=(2, 2)))\n",
    "model.add(Dropout(0.5))\n",
    "\n",
    "model.add(Conv2D(64, kernel_size=(5, 5), activation='elu', kernel_initializer='he_normal'))\n",
    "model.add(BatchNormalization())\n",
    "model.add(MaxPooling2D(pool_size=(2, 2)))\n",
    "model.add(Dropout(0.5))\n",
    "\n",
    "model.add(Flatten())\n",
    "model.add(Dense(256, activation='elu', kernel_initializer='he_normal'))\n",
    "model.add(Dropout(0.5))\n",
    "model.add(Dense(128, activation='elu', kernel_initializer='he_normal'))\n",
    "model.add(Dropout(0.5))\n",
    "model.add(Dense(10, activation='softmax'))"
   ]
  },
  {
   "cell_type": "code",
   "execution_count": 5,
   "metadata": {},
   "outputs": [
    {
     "name": "stdout",
     "output_type": "stream",
     "text": [
      "_________________________________________________________________\n",
      "Layer (type)                 Output Shape              Param #   \n",
      "=================================================================\n",
      "conv2d_1 (Conv2D)            (None, 24, 24, 32)        832       \n",
      "_________________________________________________________________\n",
      "batch_normalization_1 (Batch (None, 24, 24, 32)        128       \n",
      "_________________________________________________________________\n",
      "max_pooling2d_1 (MaxPooling2 (None, 12, 12, 32)        0         \n",
      "_________________________________________________________________\n",
      "dropout_1 (Dropout)          (None, 12, 12, 32)        0         \n",
      "_________________________________________________________________\n",
      "conv2d_2 (Conv2D)            (None, 8, 8, 64)          51264     \n",
      "_________________________________________________________________\n",
      "batch_normalization_2 (Batch (None, 8, 8, 64)          256       \n",
      "_________________________________________________________________\n",
      "max_pooling2d_2 (MaxPooling2 (None, 4, 4, 64)          0         \n",
      "_________________________________________________________________\n",
      "dropout_2 (Dropout)          (None, 4, 4, 64)          0         \n",
      "_________________________________________________________________\n",
      "flatten_1 (Flatten)          (None, 1024)              0         \n",
      "_________________________________________________________________\n",
      "dense_1 (Dense)              (None, 256)               262400    \n",
      "_________________________________________________________________\n",
      "dropout_3 (Dropout)          (None, 256)               0         \n",
      "_________________________________________________________________\n",
      "dense_2 (Dense)              (None, 128)               32896     \n",
      "_________________________________________________________________\n",
      "dropout_4 (Dropout)          (None, 128)               0         \n",
      "_________________________________________________________________\n",
      "dense_3 (Dense)              (None, 10)                1290      \n",
      "=================================================================\n",
      "Total params: 349,066\n",
      "Trainable params: 348,874\n",
      "Non-trainable params: 192\n",
      "_________________________________________________________________\n"
     ]
    }
   ],
   "source": [
    "model.summary()"
   ]
  },
  {
   "cell_type": "code",
   "execution_count": 6,
   "metadata": {},
   "outputs": [],
   "source": [
    "model.compile(optimizer='adam',\n",
    "              loss='sparse_categorical_crossentropy')"
   ]
  },
  {
   "cell_type": "code",
   "execution_count": 7,
   "metadata": {},
   "outputs": [
    {
     "name": "stdout",
     "output_type": "stream",
     "text": [
      "Train on 48000 samples, validate on 12000 samples\n",
      "Epoch 1/5\n",
      "48000/48000 [==============================] - 16s - loss: 0.6392 - val_loss: 0.1036\n",
      "Epoch 2/5\n",
      "48000/48000 [==============================] - 14s - loss: 0.2201 - val_loss: 0.0776\n",
      "Epoch 3/5\n",
      "48000/48000 [==============================] - 14s - loss: 0.1676 - val_loss: 0.0638\n",
      "Epoch 4/5\n",
      "48000/48000 [==============================] - 14s - loss: 0.1468 - val_loss: 0.0494\n",
      "Epoch 5/5\n",
      "48000/48000 [==============================] - 14s - loss: 0.1259 - val_loss: 0.0466\n"
     ]
    },
    {
     "data": {
      "text/plain": [
       "<keras.callbacks.History at 0x7f2e3b005470>"
      ]
     },
     "execution_count": 7,
     "metadata": {},
     "output_type": "execute_result"
    }
   ],
   "source": [
    "model.fit(x_train, y_train, epochs=5, batch_size=32, validation_split=0.2)"
   ]
  },
  {
   "cell_type": "code",
   "execution_count": 8,
   "metadata": {},
   "outputs": [],
   "source": [
    "test_predictions = np.argmax(model.predict(x_test),1)"
   ]
  },
  {
   "cell_type": "code",
   "execution_count": 9,
   "metadata": {},
   "outputs": [
    {
     "data": {
      "text/plain": [
       "array([[ 974,    0,    1,    0,    0,    0,    4,    1,    0,    0],\n",
       "       [   0, 1131,    1,    0,    0,    1,    1,    1,    0,    0],\n",
       "       [   1,    3, 1024,    0,    1,    0,    0,    3,    0,    0],\n",
       "       [   0,    0,    4,  993,    0,   11,    0,    1,    1,    0],\n",
       "       [   0,    0,    0,    0,  969,    0,    5,    0,    0,    8],\n",
       "       [   2,    0,    0,    2,    0,  886,    1,    1,    0,    0],\n",
       "       [   3,    2,    0,    0,    1,    4,  947,    0,    1,    0],\n",
       "       [   1,    4,    7,    2,    0,    0,    0, 1012,    1,    1],\n",
       "       [   4,    0,    1,    0,    1,    0,    1,    2,  961,    4],\n",
       "       [   2,    4,    0,    2,    4,    7,    0,    4,    0,  986]])"
      ]
     },
     "execution_count": 9,
     "metadata": {},
     "output_type": "execute_result"
    }
   ],
   "source": [
    "confusion_matrix(y_test, test_predictions)"
   ]
  },
  {
   "cell_type": "code",
   "execution_count": 10,
   "metadata": {},
   "outputs": [
    {
     "data": {
      "text/plain": [
       "array([ 0.9883])"
      ]
     },
     "execution_count": 10,
     "metadata": {},
     "output_type": "execute_result"
    }
   ],
   "source": [
    "np.sum(y_test == test_predictions) / test_predictions.shape"
   ]
  },
  {
   "cell_type": "markdown",
   "metadata": {},
   "source": [
    "## Pre-training and Data Augmentation\n",
    "\n",
    "Source: https://gist.github.com/fchollet/7eb39b44eb9e16e59632d25fb3119975"
   ]
  },
  {
   "cell_type": "code",
   "execution_count": 11,
   "metadata": {},
   "outputs": [
    {
     "name": "stdout",
     "output_type": "stream",
     "text": [
      "Model loaded.\n"
     ]
    }
   ],
   "source": [
    "base_model = applications.VGG16(weights='imagenet', include_top=False, input_shape=(48,48,3))\n",
    "print('Model loaded.')\n",
    "\n",
    "# build a classifier model to put on top of the convolutional model\n",
    "top_model = Sequential([\n",
    "    Flatten(input_shape=base_model.output_shape[1:]),\n",
    "    Dense(128, activation='elu', kernel_initializer='he_normal'),\n",
    "    BatchNormalization(),\n",
    "    Dropout(0.5),\n",
    "    Dense(64, activation='elu', kernel_initializer='he_normal'),\n",
    "    BatchNormalization(),\n",
    "    Dropout(0.5),\n",
    "    Dense(10, activation='softmax')\n",
    "])\n",
    "\n",
    "\n",
    "# compile the model with a SGD/momentum optimizer\n",
    "# and a very slow learning rate.\n",
    "top_model.compile(optimizer='adam',\n",
    "              loss='sparse_categorical_crossentropy',\n",
    "              metrics=['accuracy'])"
   ]
  },
  {
   "cell_type": "code",
   "execution_count": 12,
   "metadata": {},
   "outputs": [],
   "source": [
    "def preprocess_images(images, new_size=(48,48)):\n",
    "    resized_images = np.array([resize(x, new_size, mode='reflect') for x in images])\n",
    "    rows, width, height, _ = resized_images.shape\n",
    "    three_channels = np.zeros((rows, width, height, 3))\n",
    "    three_channels[:,:,:,0] = resized_images[:,:,:,0]\n",
    "    three_channels[:,:,:,1] = resized_images[:,:,:,0]\n",
    "    three_channels[:,:,:,2] = resized_images[:,:,:,0]\n",
    "    return three_channels"
   ]
  },
  {
   "cell_type": "code",
   "execution_count": 13,
   "metadata": {},
   "outputs": [],
   "source": [
    "x_train_processed = preprocess_images(x_train)\n",
    "x_test_processed = preprocess_images(x_test)"
   ]
  },
  {
   "cell_type": "code",
   "execution_count": 14,
   "metadata": {},
   "outputs": [],
   "source": [
    "## could augment data here\n",
    "datagen = ImageDataGenerator()\n",
    "generator = datagen.flow(x_train_processed, y_train, batch_size=32, shuffle=False)"
   ]
  },
  {
   "cell_type": "code",
   "execution_count": 15,
   "metadata": {},
   "outputs": [
    {
     "name": "stdout",
     "output_type": "stream",
     "text": [
      "1874/1875 [============================>.] - ETA: 0s"
     ]
    }
   ],
   "source": [
    "bottleneck_features_train = base_model.predict_generator(generator, x_train_processed.shape[0] // 32, verbose=1)"
   ]
  },
  {
   "cell_type": "code",
   "execution_count": 16,
   "metadata": {},
   "outputs": [],
   "source": [
    "bottleneck_features_test = base_model.predict(x_test_processed)"
   ]
  },
  {
   "cell_type": "code",
   "execution_count": 17,
   "metadata": {},
   "outputs": [
    {
     "name": "stdout",
     "output_type": "stream",
     "text": [
      "Train on 54000 samples, validate on 6000 samples\n",
      "Epoch 1/20\n",
      "54000/54000 [==============================] - 11s - loss: 0.3863 - acc: 0.8813 - val_loss: 0.0922 - val_acc: 0.9698\n",
      "Epoch 2/20\n",
      "54000/54000 [==============================] - 11s - loss: 0.1983 - acc: 0.9400 - val_loss: 0.0990 - val_acc: 0.9668\n",
      "Epoch 3/20\n",
      "54000/54000 [==============================] - 11s - loss: 0.1696 - acc: 0.9482 - val_loss: 0.0675 - val_acc: 0.9783\n",
      "Epoch 4/20\n",
      "54000/54000 [==============================] - 11s - loss: 0.1568 - acc: 0.9523 - val_loss: 0.0759 - val_acc: 0.9752\n",
      "Epoch 5/20\n",
      "54000/54000 [==============================] - 12s - loss: 0.1469 - acc: 0.9560 - val_loss: 0.0801 - val_acc: 0.9725\n",
      "Epoch 6/20\n",
      "54000/54000 [==============================] - 11s - loss: 0.1385 - acc: 0.9590 - val_loss: 0.0854 - val_acc: 0.9732\n",
      "Epoch 7/20\n",
      "54000/54000 [==============================] - 11s - loss: 0.1343 - acc: 0.9594 - val_loss: 0.0573 - val_acc: 0.9833\n",
      "Epoch 8/20\n",
      "54000/54000 [==============================] - 11s - loss: 0.1284 - acc: 0.9609 - val_loss: 0.0647 - val_acc: 0.9787\n",
      "Epoch 9/20\n",
      "54000/54000 [==============================] - 10s - loss: 0.1286 - acc: 0.9614 - val_loss: 0.0634 - val_acc: 0.9820\n",
      "Epoch 10/20\n",
      "54000/54000 [==============================] - 12s - loss: 0.1216 - acc: 0.9630 - val_loss: 0.0620 - val_acc: 0.9807\n",
      "Epoch 11/20\n",
      "54000/54000 [==============================] - 12s - loss: 0.1209 - acc: 0.9634 - val_loss: 0.0558 - val_acc: 0.9825\n",
      "Epoch 12/20\n",
      "54000/54000 [==============================] - 10s - loss: 0.1232 - acc: 0.9632 - val_loss: 0.0587 - val_acc: 0.9812\n",
      "Epoch 13/20\n",
      "54000/54000 [==============================] - 10s - loss: 0.1173 - acc: 0.9643 - val_loss: 0.0563 - val_acc: 0.9820\n",
      "Epoch 14/20\n",
      "54000/54000 [==============================] - 11s - loss: 0.1144 - acc: 0.9646 - val_loss: 0.0820 - val_acc: 0.9738\n",
      "Epoch 15/20\n",
      "54000/54000 [==============================] - 11s - loss: 0.1128 - acc: 0.9656 - val_loss: 0.0613 - val_acc: 0.9812\n",
      "Epoch 16/20\n",
      "54000/54000 [==============================] - 11s - loss: 0.1146 - acc: 0.9660 - val_loss: 0.0552 - val_acc: 0.9842\n",
      "Epoch 17/20\n",
      "54000/54000 [==============================] - 11s - loss: 0.1110 - acc: 0.9674 - val_loss: 0.0631 - val_acc: 0.9798\n",
      "Epoch 18/20\n",
      "54000/54000 [==============================] - 11s - loss: 0.1078 - acc: 0.9671 - val_loss: 0.0539 - val_acc: 0.9838\n",
      "Epoch 19/20\n",
      "54000/54000 [==============================] - 11s - loss: 0.1095 - acc: 0.9671 - val_loss: 0.0523 - val_acc: 0.9838\n",
      "Epoch 20/20\n",
      "54000/54000 [==============================] - 11s - loss: 0.1076 - acc: 0.9667 - val_loss: 0.0567 - val_acc: 0.9835\n"
     ]
    },
    {
     "data": {
      "text/plain": [
       "<keras.callbacks.History at 0x7f2dac0e5c18>"
      ]
     },
     "execution_count": 17,
     "metadata": {},
     "output_type": "execute_result"
    }
   ],
   "source": [
    "top_model.fit(bottleneck_features_train, y_train, epochs=20, batch_size=32, validation_split=0.1)"
   ]
  },
  {
   "cell_type": "code",
   "execution_count": 18,
   "metadata": {},
   "outputs": [],
   "source": [
    "test_predictions = np.argmax(top_model.predict(bottleneck_features_test),1)"
   ]
  },
  {
   "cell_type": "code",
   "execution_count": 19,
   "metadata": {},
   "outputs": [
    {
     "data": {
      "text/plain": [
       "array([[ 966,    0,    2,    0,    0,    4,    2,    2,    3,    1],\n",
       "       [   0, 1128,    0,    1,    1,    0,    0,    4,    1,    0],\n",
       "       [   0,    1,  969,   17,    2,   15,    0,   21,    5,    2],\n",
       "       [   0,    0,    4,  989,    0,   13,    0,    2,    2,    0],\n",
       "       [   0,    2,    2,    0,  962,    1,    0,    5,    5,    5],\n",
       "       [   0,    0,    2,    6,    0,  877,    0,    2,    5,    0],\n",
       "       [   6,    2,    1,    0,    1,    2,  945,    0,    1,    0],\n",
       "       [   1,    3,    3,    0,    5,    1,    0, 1014,    0,    1],\n",
       "       [   0,    0,    2,    2,    3,    3,    1,    1,  960,    2],\n",
       "       [   1,    0,    4,    1,   10,    2,    0,   12,    8,  971]])"
      ]
     },
     "execution_count": 19,
     "metadata": {},
     "output_type": "execute_result"
    }
   ],
   "source": [
    "confusion_matrix(y_test, test_predictions)"
   ]
  },
  {
   "cell_type": "code",
   "execution_count": 20,
   "metadata": {},
   "outputs": [
    {
     "data": {
      "text/plain": [
       "array([ 0.9781])"
      ]
     },
     "execution_count": 20,
     "metadata": {},
     "output_type": "execute_result"
    }
   ],
   "source": [
    "np.sum(y_test == test_predictions) / test_predictions.shape"
   ]
  }
 ],
 "metadata": {
  "kernelspec": {
   "display_name": "Python 3",
   "language": "python",
   "name": "python3"
  },
  "language_info": {
   "codemirror_mode": {
    "name": "ipython",
    "version": 3
   },
   "file_extension": ".py",
   "mimetype": "text/x-python",
   "name": "python",
   "nbconvert_exporter": "python",
   "pygments_lexer": "ipython3",
   "version": "3.5.3"
  }
 },
 "nbformat": 4,
 "nbformat_minor": 2
}
