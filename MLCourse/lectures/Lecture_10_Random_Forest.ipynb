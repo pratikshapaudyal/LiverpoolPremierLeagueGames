{
 "cells": [
  {
   "cell_type": "markdown",
   "metadata": {},
   "source": [
    "## Random Forest\n",
    "\n",
    "Decision trees are not really used on their own in machine learning. You really only see them in situations where understanding the model's decisions is extremely important.\n",
    "\n",
    "Instead, a much more common use of decision trees is to use them in **ensembles**. An ensemble is basically a group of models used together to make a prediction. Often, ensembling multiple models leads to a stronger predictive model, but you lose some ability to interpret the model.\n",
    "\n",
    "Random forests train a bunch of decision trees that are all different and then combine them via **voting.** Basically, you take the most common predicted class as the prediction (hard voting) and you can get probabilities by taking the fraction (soft voting). It is fairly easy to see how multiple models might be more effective than a single model if they all look at the data in a different way. For example, if you wanted to know whether a movie is good, you probably don't just ask one person. Instead you ask many different people with different preferences.\n",
    "\n",
    "Note: random forests also work for regression problems, you just use the average predicted value instead of voting.\n",
    "\n",
    "Random forests are one of the most popular models in machine learning. Here is a nice paper that compares many models and shows how well random forests fair:\n",
    "\n",
    "http://lowrank.net/nikos/pubs/empirical.pdf\n",
    "\n",
    "### Some intuition \n",
    "\n",
    "P. 183 of Hands on Machine Learning has one of the nicest explanations of why combining weak learners can led to a strong learner. Let's take a look!\n",
    "\n",
    "One of the main take aways is that you want your models to be as independent as possible. Thus, when ensembling you want to do as much as you can to have diverse models. There are a few ways you can try and get this diversity:\n",
    "\n",
    "1. Train many different models on the same data where each model is different. For example, one SVM, one logistic regression, and one k-nearest kneighbors. You can see how to do this in sklearn on p. 184 of Hands on Machine Learning. We won't dive too deep into this method, but it is pretty simple and can be pretty effective. \n",
    "\n",
    "2. ### Bagging (Bootstrapping)\n",
    "\n",
    "Bagging uses the same model for each predictor, but each model gets a different view of the same data. How do we create different views? Simple - each model randomly samples from the training data **with replacement**. Each sample is the same size as the original training data, but since you sample with replacement each model only sees about 63% of the data - the rest are duplicates. Note: resampling without replacement is called pasting - but this is rarely used.\n",
    "\n",
    "Benefits:\n",
    "\n",
    "* Scales very well since training and prediction can be run in parallel\n",
    "* Ensemble has lower variance than the single model\n",
    "\n",
    "P. 186 of Hands on Machine Learning has an sklearn example of Bagging.\n",
    "\n",
    "Since each model only sees about 63% of the data, that means there is about 37% of the data per model that isn't used for training. These are called **out-of-bag samples**. We can use these samples for evaluation without actually needing a cross-validation set. This can be useful with very large data where training multiple cross-validated models can be costly.\n",
    "\n",
    "3. ### Random patches and subspaces\n",
    "\n",
    "This is a simple idea - you randomly sample the features that each model can see. Random patches is sampling both features and samples. Sampling only features is called random subspaces. Sampling features can be especially effective when you have many features (high dimensions). Again, this typically lowers variance \n",
    "\n",
    "\n",
    "## Random Forest\n",
    "\n",
    "Now that we understand all these methods, it is pretty easy to understand random forest. Random forests use decision trees with bagging and random subspaces = random patches. SKlearn's implementation uses a random subset of features equal to sqrt(number of features) and a sample size of the same size as default values. That's it! Pretty amazing how a few fairly simple ideas on top of a pretty weak model - decision trees - can be so powerful. \n",
    "\n",
    "And again the intuition is that we are doing as much as we can to de-correlate our trees, which reduces the variance of our estimate. If all of our trees were very correlated then we do not gain much. \n",
    "\n",
    "### Feature Importances\n",
    "\n",
    "Remember that one of the benefits of decision trees was that they are easy to understand. When ensembling them, though, we lose some of this simplicity. Fortunately, it is still pretty easy to get an understanding of which features are important.\n",
    "\n",
    "A common way to do this is to measure the impact of each feature on reducing the impurity of the tree on average. For example, if in one of our trees is splitting on gender and this decreases the impurity by 10 across 100 samples and another tree in our random forest also split on gender reducing impurity by 5 across 10 nodes, we would calculate the weighted average (weighted by the sizes) to get the importance of this feature. Thus, higher is better.\n",
    "\n",
    "### SKLearn Example"
   ]
  },
  {
   "cell_type": "code",
   "execution_count": 46,
   "metadata": {
    "collapsed": true
   },
   "outputs": [],
   "source": [
    "from sklearn.datasets import load_breast_cancer\n",
    "from sklearn.ensemble import RandomForestClassifier\n",
    "from sklearn.model_selection import train_test_split, GridSearchCV\n",
    "from sklearn.metrics import f1_score, classification_report\n",
    "from collections import Counter\n",
    "import numpy as np\n",
    "import pandas as pd\n",
    "%matplotlib inline"
   ]
  },
  {
   "cell_type": "code",
   "execution_count": 3,
   "metadata": {
    "collapsed": true
   },
   "outputs": [],
   "source": [
    "data = load_breast_cancer()\n",
    "X_train, X_test, y_train, y_test = train_test_split(data.data, data.target, test_size=0.20, random_state=42)"
   ]
  },
  {
   "cell_type": "code",
   "execution_count": 4,
   "metadata": {},
   "outputs": [
    {
     "data": {
      "text/plain": [
       "Counter({0: 169, 1: 286})"
      ]
     },
     "execution_count": 4,
     "metadata": {},
     "output_type": "execute_result"
    }
   ],
   "source": [
    "Counter(y_train)"
   ]
  },
  {
   "cell_type": "code",
   "execution_count": 29,
   "metadata": {},
   "outputs": [
    {
     "name": "stdout",
     "output_type": "stream",
     "text": [
      "1000 1 balanced\n",
      "1000 1 None\n",
      "1000 3 balanced\n",
      "1000 3 None\n",
      "1000 5 balanced\n",
      "1000 5 None\n",
      "1000 10 balanced\n",
      "1000 10 None\n",
      "2500 1 balanced\n",
      "2500 1 None\n",
      "2500 3 balanced\n",
      "2500 3 None\n",
      "2500 5 balanced\n",
      "2500 5 None\n",
      "2500 10 balanced\n",
      "2500 10 None\n",
      "5000 1 balanced\n",
      "5000 1 None\n",
      "5000 3 balanced\n",
      "5000 3 None\n",
      "5000 5 balanced\n",
      "5000 5 None\n",
      "5000 10 balanced\n",
      "5000 10 None\n"
     ]
    }
   ],
   "source": [
    "n_estimators = [1000, 2500, 5000]\n",
    "max_depth = [1, 3, 5, 10]\n",
    "class_weights = ['balanced', None]\n",
    "best_f1 = 0\n",
    "\n",
    "for est in n_estimators:\n",
    "    for depth in max_depth:\n",
    "        for wgt in class_weights:\n",
    "            print(est, depth, wgt)\n",
    "            clf = RandomForestClassifier(n_estimators=est, max_depth=depth, oob_score=True, class_weight=wgt)\n",
    "            clf.fit(X_train, y_train)\n",
    "            f1 = f1_score(y_train, np.argmax(clf.oob_decision_function_ , 1))\n",
    "            if f1 > best_f1:\n",
    "                best_f1 = f1\n",
    "                best_params = (est, depth, wgt)"
   ]
  },
  {
   "cell_type": "code",
   "execution_count": 31,
   "metadata": {},
   "outputs": [
    {
     "name": "stdout",
     "output_type": "stream",
     "text": [
      "Best OOB F1: 0.9740034662045061\n",
      "Best params: (2500, 10, 'balanced')\n"
     ]
    }
   ],
   "source": [
    "print(\"Best OOB F1: {}\".format(best_f1))\n",
    "print(\"Best params: {}\".format(best_params))"
   ]
  },
  {
   "cell_type": "code",
   "execution_count": 32,
   "metadata": {},
   "outputs": [
    {
     "name": "stdout",
     "output_type": "stream",
     "text": [
      "Test Classification Report:\n",
      "             precision    recall  f1-score   support\n",
      "\n",
      "          0       0.98      0.93      0.95        43\n",
      "          1       0.96      0.99      0.97        71\n",
      "\n",
      "avg / total       0.97      0.96      0.96       114\n",
      "\n"
     ]
    }
   ],
   "source": [
    "clf = RandomForestClassifier(n_estimators=best_params[0], max_depth=best_params[1], class_weight=best_params[2])\n",
    "clf.fit(X_train, y_train)\n",
    "test_predictions = clf.predict(X_test)\n",
    "print(\"Test Classification Report:\")\n",
    "print(classification_report(y_test, test_predictions))"
   ]
  },
  {
   "cell_type": "code",
   "execution_count": 39,
   "metadata": {
    "collapsed": true
   },
   "outputs": [],
   "source": [
    "feature_imp = sorted(list(zip(data.feature_names, clf.feature_importances_)), key=lambda x: x[1], reverse=True)"
   ]
  },
  {
   "cell_type": "code",
   "execution_count": 47,
   "metadata": {},
   "outputs": [
    {
     "data": {
      "text/plain": [
       "<matplotlib.axes._subplots.AxesSubplot at 0x1214ded68>"
      ]
     },
     "execution_count": 47,
     "metadata": {},
     "output_type": "execute_result"
    },
    {
     "data": {
      "image/png": "[encoded data removed]",
      "text/plain": [
       "<matplotlib.figure.Figure at 0x1214ea9b0>"
      ]
     },
     "metadata": {},
     "output_type": "display_data"
    }
   ],
   "source": [
    "pd.Series([x[1] for x in feature_imp], index=[x[0] for x in feature_imp]).plot(kind='bar')"
   ]
  }
 ],
 "metadata": {
  "kernelspec": {
   "display_name": "Python 3",
   "language": "python",
   "name": "python3"
  },
  "language_info": {
   "codemirror_mode": {
    "name": "ipython",
    "version": 3
   },
   "file_extension": ".py",
   "mimetype": "text/x-python",
   "name": "python",
   "nbconvert_exporter": "python",
   "pygments_lexer": "ipython3",
   "version": "3.5.3"
  }
 },
 "nbformat": 4,
 "nbformat_minor": 2
}
