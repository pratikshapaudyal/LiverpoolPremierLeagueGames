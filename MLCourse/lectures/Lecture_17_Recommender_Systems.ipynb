{
 "cells": [
  {
   "cell_type": "markdown",
   "metadata": {},
   "source": [
    "## Recommender Systems\n",
    "\n",
    "Source and inspiration: https://github.com/fastai/courses/blob/master/deeplearning1/nbs/lesson4.ipynb"
   ]
  },
  {
   "cell_type": "code",
   "execution_count": 53,
   "metadata": {},
   "outputs": [],
   "source": [
    "import pandas as pd\n",
    "import torch\n",
    "import torch.nn as nn\n",
    "from torch.autograd import Variable\n",
    "import numpy as np\n",
    "import time\n",
    "import math\n",
    "import matplotlib.pyplot as plt\n",
    "import torch.optim as optim\n",
    "from collections import defaultdict\n",
    "import torch.distributions as distributions\n",
    "import pandas as pd\n",
    "from collections import Counter\n",
    "from torch.utils.data import Dataset, DataLoader\n",
    "from operator import itemgetter\n",
    "from pprint import PrettyPrinter\n",
    "import seaborn as sns\n",
    "%matplotlib inline"
   ]
  },
  {
   "cell_type": "code",
   "execution_count": 2,
   "metadata": {},
   "outputs": [
    {
     "data": {
      "text/html": [
       "<div>\n",
       "<style>\n",
       "    .dataframe thead tr:only-child th {\n",
       "        text-align: right;\n",
       "    }\n",
       "\n",
       "    .dataframe thead th {\n",
       "        text-align: left;\n",
       "    }\n",
       "\n",
       "    .dataframe tbody tr th {\n",
       "        vertical-align: top;\n",
       "    }\n",
       "</style>\n",
       "<table border=\"1\" class=\"dataframe\">\n",
       "  <thead>\n",
       "    <tr style=\"text-align: right;\">\n",
       "      <th></th>\n",
       "      <th>user</th>\n",
       "      <th>item</th>\n",
       "      <th>rating</th>\n",
       "      <th>timestamp</th>\n",
       "    </tr>\n",
       "  </thead>\n",
       "  <tbody>\n",
       "    <tr>\n",
       "      <th>0</th>\n",
       "      <td>196</td>\n",
       "      <td>242</td>\n",
       "      <td>3</td>\n",
       "      <td>881250949</td>\n",
       "    </tr>\n",
       "    <tr>\n",
       "      <th>1</th>\n",
       "      <td>186</td>\n",
       "      <td>302</td>\n",
       "      <td>3</td>\n",
       "      <td>891717742</td>\n",
       "    </tr>\n",
       "    <tr>\n",
       "      <th>2</th>\n",
       "      <td>22</td>\n",
       "      <td>377</td>\n",
       "      <td>1</td>\n",
       "      <td>878887116</td>\n",
       "    </tr>\n",
       "    <tr>\n",
       "      <th>3</th>\n",
       "      <td>244</td>\n",
       "      <td>51</td>\n",
       "      <td>2</td>\n",
       "      <td>880606923</td>\n",
       "    </tr>\n",
       "    <tr>\n",
       "      <th>4</th>\n",
       "      <td>166</td>\n",
       "      <td>346</td>\n",
       "      <td>1</td>\n",
       "      <td>886397596</td>\n",
       "    </tr>\n",
       "  </tbody>\n",
       "</table>\n",
       "</div>"
      ],
      "text/plain": [
       "   user  item  rating  timestamp\n",
       "0   196   242       3  881250949\n",
       "1   186   302       3  891717742\n",
       "2    22   377       1  878887116\n",
       "3   244    51       2  880606923\n",
       "4   166   346       1  886397596"
      ]
     },
     "execution_count": 2,
     "metadata": {},
     "output_type": "execute_result"
    }
   ],
   "source": [
    "movie_data = pd.read_csv(\"../small_data/movie_data.tsv\", sep='\\t', names=['user', 'item', 'rating', 'timestamp'])\n",
    "movie_data.head()"
   ]
  },
  {
   "cell_type": "code",
   "execution_count": 3,
   "metadata": {},
   "outputs": [
    {
     "data": {
      "text/html": [
       "<div>\n",
       "<style>\n",
       "    .dataframe thead tr:only-child th {\n",
       "        text-align: right;\n",
       "    }\n",
       "\n",
       "    .dataframe thead th {\n",
       "        text-align: left;\n",
       "    }\n",
       "\n",
       "    .dataframe tbody tr th {\n",
       "        vertical-align: top;\n",
       "    }\n",
       "</style>\n",
       "<table border=\"1\" class=\"dataframe\">\n",
       "  <thead>\n",
       "    <tr style=\"text-align: right;\">\n",
       "      <th></th>\n",
       "      <th>0</th>\n",
       "      <th>1</th>\n",
       "      <th>2</th>\n",
       "      <th>3</th>\n",
       "      <th>4</th>\n",
       "      <th>5</th>\n",
       "      <th>6</th>\n",
       "      <th>7</th>\n",
       "      <th>8</th>\n",
       "      <th>9</th>\n",
       "      <th>...</th>\n",
       "      <th>14</th>\n",
       "      <th>15</th>\n",
       "      <th>16</th>\n",
       "      <th>17</th>\n",
       "      <th>18</th>\n",
       "      <th>19</th>\n",
       "      <th>20</th>\n",
       "      <th>21</th>\n",
       "      <th>22</th>\n",
       "      <th>23</th>\n",
       "    </tr>\n",
       "  </thead>\n",
       "  <tbody>\n",
       "    <tr>\n",
       "      <th>0</th>\n",
       "      <td>1</td>\n",
       "      <td>Toy Story (1995)</td>\n",
       "      <td>01-Jan-1995</td>\n",
       "      <td>NaN</td>\n",
       "      <td>http://us.imdb.com/M/title-exact?Toy%20Story%2...</td>\n",
       "      <td>0</td>\n",
       "      <td>0</td>\n",
       "      <td>0</td>\n",
       "      <td>1</td>\n",
       "      <td>1</td>\n",
       "      <td>...</td>\n",
       "      <td>0</td>\n",
       "      <td>0</td>\n",
       "      <td>0</td>\n",
       "      <td>0</td>\n",
       "      <td>0</td>\n",
       "      <td>0</td>\n",
       "      <td>0</td>\n",
       "      <td>0</td>\n",
       "      <td>0</td>\n",
       "      <td>0</td>\n",
       "    </tr>\n",
       "    <tr>\n",
       "      <th>1</th>\n",
       "      <td>2</td>\n",
       "      <td>GoldenEye (1995)</td>\n",
       "      <td>01-Jan-1995</td>\n",
       "      <td>NaN</td>\n",
       "      <td>http://us.imdb.com/M/title-exact?GoldenEye%20(...</td>\n",
       "      <td>0</td>\n",
       "      <td>1</td>\n",
       "      <td>1</td>\n",
       "      <td>0</td>\n",
       "      <td>0</td>\n",
       "      <td>...</td>\n",
       "      <td>0</td>\n",
       "      <td>0</td>\n",
       "      <td>0</td>\n",
       "      <td>0</td>\n",
       "      <td>0</td>\n",
       "      <td>0</td>\n",
       "      <td>0</td>\n",
       "      <td>1</td>\n",
       "      <td>0</td>\n",
       "      <td>0</td>\n",
       "    </tr>\n",
       "    <tr>\n",
       "      <th>2</th>\n",
       "      <td>3</td>\n",
       "      <td>Four Rooms (1995)</td>\n",
       "      <td>01-Jan-1995</td>\n",
       "      <td>NaN</td>\n",
       "      <td>http://us.imdb.com/M/title-exact?Four%20Rooms%...</td>\n",
       "      <td>0</td>\n",
       "      <td>0</td>\n",
       "      <td>0</td>\n",
       "      <td>0</td>\n",
       "      <td>0</td>\n",
       "      <td>...</td>\n",
       "      <td>0</td>\n",
       "      <td>0</td>\n",
       "      <td>0</td>\n",
       "      <td>0</td>\n",
       "      <td>0</td>\n",
       "      <td>0</td>\n",
       "      <td>0</td>\n",
       "      <td>1</td>\n",
       "      <td>0</td>\n",
       "      <td>0</td>\n",
       "    </tr>\n",
       "    <tr>\n",
       "      <th>3</th>\n",
       "      <td>4</td>\n",
       "      <td>Get Shorty (1995)</td>\n",
       "      <td>01-Jan-1995</td>\n",
       "      <td>NaN</td>\n",
       "      <td>http://us.imdb.com/M/title-exact?Get%20Shorty%...</td>\n",
       "      <td>0</td>\n",
       "      <td>1</td>\n",
       "      <td>0</td>\n",
       "      <td>0</td>\n",
       "      <td>0</td>\n",
       "      <td>...</td>\n",
       "      <td>0</td>\n",
       "      <td>0</td>\n",
       "      <td>0</td>\n",
       "      <td>0</td>\n",
       "      <td>0</td>\n",
       "      <td>0</td>\n",
       "      <td>0</td>\n",
       "      <td>0</td>\n",
       "      <td>0</td>\n",
       "      <td>0</td>\n",
       "    </tr>\n",
       "    <tr>\n",
       "      <th>4</th>\n",
       "      <td>5</td>\n",
       "      <td>Copycat (1995)</td>\n",
       "      <td>01-Jan-1995</td>\n",
       "      <td>NaN</td>\n",
       "      <td>http://us.imdb.com/M/title-exact?Copycat%20(1995)</td>\n",
       "      <td>0</td>\n",
       "      <td>0</td>\n",
       "      <td>0</td>\n",
       "      <td>0</td>\n",
       "      <td>0</td>\n",
       "      <td>...</td>\n",
       "      <td>0</td>\n",
       "      <td>0</td>\n",
       "      <td>0</td>\n",
       "      <td>0</td>\n",
       "      <td>0</td>\n",
       "      <td>0</td>\n",
       "      <td>0</td>\n",
       "      <td>1</td>\n",
       "      <td>0</td>\n",
       "      <td>0</td>\n",
       "    </tr>\n",
       "  </tbody>\n",
       "</table>\n",
       "<p>5 rows × 24 columns</p>\n",
       "</div>"
      ],
      "text/plain": [
       "   0                  1            2   3   \\\n",
       "0   1   Toy Story (1995)  01-Jan-1995 NaN   \n",
       "1   2   GoldenEye (1995)  01-Jan-1995 NaN   \n",
       "2   3  Four Rooms (1995)  01-Jan-1995 NaN   \n",
       "3   4  Get Shorty (1995)  01-Jan-1995 NaN   \n",
       "4   5     Copycat (1995)  01-Jan-1995 NaN   \n",
       "\n",
       "                                                  4   5   6   7   8   9  ...  \\\n",
       "0  http://us.imdb.com/M/title-exact?Toy%20Story%2...   0   0   0   1   1 ...   \n",
       "1  http://us.imdb.com/M/title-exact?GoldenEye%20(...   0   1   1   0   0 ...   \n",
       "2  http://us.imdb.com/M/title-exact?Four%20Rooms%...   0   0   0   0   0 ...   \n",
       "3  http://us.imdb.com/M/title-exact?Get%20Shorty%...   0   1   0   0   0 ...   \n",
       "4  http://us.imdb.com/M/title-exact?Copycat%20(1995)   0   0   0   0   0 ...   \n",
       "\n",
       "   14  15  16  17  18  19  20  21  22  23  \n",
       "0   0   0   0   0   0   0   0   0   0   0  \n",
       "1   0   0   0   0   0   0   0   1   0   0  \n",
       "2   0   0   0   0   0   0   0   1   0   0  \n",
       "3   0   0   0   0   0   0   0   0   0   0  \n",
       "4   0   0   0   0   0   0   0   1   0   0  \n",
       "\n",
       "[5 rows x 24 columns]"
      ]
     },
     "execution_count": 3,
     "metadata": {},
     "output_type": "execute_result"
    }
   ],
   "source": [
    "movie_info = pd.read_csv(\"../small_data/u.item\", sep=\"|\", encoding=\"latin-1\", header=None)\n",
    "movie_info.head()"
   ]
  },
  {
   "cell_type": "code",
   "execution_count": 4,
   "metadata": {},
   "outputs": [],
   "source": [
    "movie_name_dict = movie_info.set_index(0)[1].to_dict()"
   ]
  },
  {
   "cell_type": "code",
   "execution_count": 29,
   "metadata": {},
   "outputs": [],
   "source": [
    "user_to_index = {u:i for i, u in enumerate(movie_data.user.unique())}\n",
    "item_to_index = {u:i for i, u in enumerate(movie_data.item.unique())}\n",
    "index_to_item = {i:item for item, i in item_to_index.items()}"
   ]
  },
  {
   "cell_type": "code",
   "execution_count": 6,
   "metadata": {},
   "outputs": [],
   "source": [
    "class CollaborativeFiltering(nn.Module):\n",
    "    def __init__(self, user_size, item_size, embedding_dim):\n",
    "        super(CollaborativeFiltering, self).__init__()\n",
    "        \n",
    "        self.user_embedding = nn.Embedding(user_size, embedding_dim)\n",
    "        self.item_embedding = nn.Embedding(item_size, embedding_dim)\n",
    "        self.linear1 = nn.Linear(embedding_dim*2, embedding_dim)  # bias is True by default\n",
    "        self.linear2 = nn.Linear(embedding_dim, 1)\n",
    "        self.dropout = nn.Dropout(0.5)\n",
    "        self.relu = nn.ReLU()\n",
    "\n",
    "    def forward(self, user, item):\n",
    "        user_embeds = self.user_embedding(user)\n",
    "        item_embeds = self.item_embedding(item)\n",
    "        drop_cat = self.dropout(torch.cat([user_embeds, item_embeds], 2))\n",
    "        first_layer = self.relu(self.linear1(drop_cat))\n",
    "        return self.linear2(self.dropout(first_layer))\n",
    "    \n",
    "    def get_user_emdedding(self, user):\n",
    "        user_variable = Variable(torch.LongTensor([user_to_index[user]]))\n",
    "        return self.user_embedding(user_variable).view(1,-1)\n",
    "    \n",
    "    def get_item_emdedding(self, item):\n",
    "        item_variable = Variable(torch.LongTensor([item_to_index[item]]))\n",
    "        return self.item_embedding(item_variable).view(1,-1)"
   ]
  },
  {
   "cell_type": "code",
   "execution_count": 7,
   "metadata": {},
   "outputs": [],
   "source": [
    "training_fraction = 0.8\n",
    "data = movie_data[['user', 'item', 'rating']].values\n",
    "training_cutoff = int(data.shape[0] * training_fraction)\n",
    "training_data = data[:training_cutoff]\n",
    "testing_data = data[training_cutoff:]"
   ]
  },
  {
   "cell_type": "code",
   "execution_count": 8,
   "metadata": {},
   "outputs": [],
   "source": [
    "cf = CollaborativeFiltering(len(user_to_index), len(item_to_index), 50)\n",
    "criterion = nn.MSELoss()\n",
    "optimizer = optim.Adam(cf.parameters(), lr = 0.001)"
   ]
  },
  {
   "cell_type": "code",
   "execution_count": 9,
   "metadata": {},
   "outputs": [],
   "source": [
    "def get_variable(value):\n",
    "    tensor = torch.LongTensor([value])\n",
    "    return Variable(tensor)\n",
    "\n",
    "def timeSince(since):\n",
    "    now = time.time()\n",
    "    s = now - since\n",
    "    m = math.floor(s / 60)\n",
    "    s -= m * 60\n",
    "    return '%dm %ds' % (m, s)\n",
    "\n",
    "def train(user, item, rating):\n",
    "    cf.zero_grad()\n",
    "    predicted_rating = cf.forward(user, item)\n",
    "    loss = criterion(predicted_rating, rating)\n",
    "    loss.backward()\n",
    "    optimizer.step()\n",
    "    return loss.data"
   ]
  },
  {
   "cell_type": "code",
   "execution_count": 10,
   "metadata": {},
   "outputs": [],
   "source": [
    "class CustomDataset(Dataset):\n",
    "    def __init__(self, data):\n",
    "        self.data = data\n",
    "\n",
    "    def __getitem__(self, index):\n",
    "        row = self.data[index]\n",
    "        return (torch.LongTensor([user_to_index[row[0]]]), \n",
    "                torch.LongTensor([item_to_index[row[1]]]), \n",
    "                torch.FloatTensor([int(row[2])]))\n",
    "        \n",
    "    def __len__(self):\n",
    "        return len(self.data)\n",
    "\n",
    "batch_size = 8\n",
    "training_dataset = CustomDataset(training_data)\n",
    "training_dataloader = DataLoader(training_dataset, batch_size=batch_size, shuffle=True)"
   ]
  },
  {
   "cell_type": "code",
   "execution_count": 12,
   "metadata": {
    "scrolled": false
   },
   "outputs": [
    {
     "name": "stdout",
     "output_type": "stream",
     "text": [
      "0m 0s (0 0%) 6.7452\n",
      "0m 5s (15000 3%) 0.3068\n",
      "0m 13s (30000 7%) 1.4974\n",
      "0m 21s (45000 11%) 1.1739\n",
      "0m 30s (60000 15%) 1.7775\n",
      "0m 38s (75000 18%) 1.7976\n",
      "0m 47s (90000 22%) 1.4010\n",
      "0m 55s (105000 26%) 1.2469\n",
      "1m 4s (120000 30%) 0.6356\n",
      "1m 13s (135000 33%) 0.8279\n",
      "1m 22s (150000 37%) 0.1165\n",
      "1m 31s (165000 41%) 1.3693\n",
      "1m 41s (180000 45%) 0.7099\n",
      "1m 51s (195000 48%) 2.4649\n",
      "2m 0s (210000 52%) 0.3932\n",
      "2m 10s (225000 56%) 0.3831\n",
      "2m 19s (240000 60%) 0.6127\n",
      "2m 28s (255000 63%) 0.4247\n",
      "2m 37s (270000 67%) 0.8066\n",
      "2m 47s (285000 71%) 1.6275\n",
      "2m 56s (300000 75%) 1.1797\n",
      "3m 6s (315000 78%) 1.3523\n"
     ]
    }
   ],
   "source": [
    "n_epochs = 8\n",
    "print_every_batch = int(15000/batch_size)\n",
    "plot_every_batch = int(1000/batch_size)\n",
    "all_losses = []\n",
    "total_loss = 0 # Reset every plot_every iters\n",
    "iter = 0\n",
    "\n",
    "start = time.time()\n",
    "\n",
    "for epoch in range(1, n_epochs + 1):\n",
    "    for i_batch, sample_batched in enumerate(training_dataloader):\n",
    "        loss = train(Variable(sample_batched[0]), Variable(sample_batched[1]), Variable(sample_batched[2]))\n",
    "        total_loss += loss\n",
    "\n",
    "        if iter % (print_every_batch*batch_size) == 0:\n",
    "            print('%s (%d %d%%) %.4f' % (timeSince(start), iter, iter / (len(data) * n_epochs) * 100, loss))\n",
    "\n",
    "        if iter % (plot_every_batch*batch_size) == 0 and iter != 0:\n",
    "            all_losses.append(total_loss / plot_every_batch)\n",
    "            total_loss = 0\n",
    "        \n",
    "        iter = iter + batch_size"
   ]
  },
  {
   "cell_type": "code",
   "execution_count": 13,
   "metadata": {},
   "outputs": [
    {
     "data": {
      "text/plain": [
       "[<matplotlib.lines.Line2D at 0x11e6087b8>]"
      ]
     },
     "execution_count": 13,
     "metadata": {},
     "output_type": "execute_result"
    },
    {
     "data": {
      "image/png": "[encoded data removed]",
      "text/plain": [
       "<matplotlib.figure.Figure at 0x10b6f5828>"
      ]
     },
     "metadata": {},
     "output_type": "display_data"
    }
   ],
   "source": [
    "plt.plot(all_losses)"
   ]
  },
  {
   "cell_type": "markdown",
   "metadata": {},
   "source": [
    "## Test Results"
   ]
  },
  {
   "cell_type": "code",
   "execution_count": 50,
   "metadata": {},
   "outputs": [
    {
     "name": "stdout",
     "output_type": "stream",
     "text": [
      "Variable containing:\n",
      " 0.8250\n",
      "[torch.FloatTensor of size 1]\n",
      "\n"
     ]
    }
   ],
   "source": [
    "testing_dataset = CustomDataset(testing_data)\n",
    "testing_dataloader = DataLoader(testing_dataset, batch_size=1, shuffle=False)\n",
    "testing_losses = []\n",
    "for t in testing_dataloader:\n",
    "    predicted_test_rating = cf.forward(Variable(t[0]), Variable(t[1]))\n",
    "    loss = criterion(predicted_test_rating, Variable(t[2]))\n",
    "    testing_losses.append(loss)\n",
    "testing_losses = np.array(testing_losses)\n",
    "print(np.mean(np.sqrt(testing_losses)))"
   ]
  },
  {
   "cell_type": "markdown",
   "metadata": {},
   "source": [
    "## PCA of Movie Embeddings"
   ]
  },
  {
   "cell_type": "code",
   "execution_count": 14,
   "metadata": {},
   "outputs": [],
   "source": [
    "item_keys = list(item_to_index.keys())\n",
    "item_features = np.array([cf.get_item_emdedding(i).data.numpy()[0] for i in item_keys])"
   ]
  },
  {
   "cell_type": "code",
   "execution_count": 15,
   "metadata": {},
   "outputs": [
    {
     "data": {
      "text/plain": [
       "(1590, 50)"
      ]
     },
     "execution_count": 15,
     "metadata": {},
     "output_type": "execute_result"
    }
   ],
   "source": [
    "item_features.shape"
   ]
  },
  {
   "cell_type": "code",
   "execution_count": 23,
   "metadata": {},
   "outputs": [],
   "source": [
    "from sklearn.decomposition import PCA\n",
    "pca = PCA(n_components=3)\n",
    "movie_pca = pca.fit(item_features.T).components_"
   ]
  },
  {
   "cell_type": "code",
   "execution_count": 44,
   "metadata": {},
   "outputs": [],
   "source": [
    "def print_pca(movie_pca, component):\n",
    "    movie_comp = [(c, movie_name_dict[index_to_item[i]]) for i, c in enumerate(movie_pca[component])]\n",
    "    sorted_movies = sorted(movie_comp, key=itemgetter(0), reverse=True)\n",
    "    pp = PrettyPrinter()\n",
    "    print(\"COMPONENT {}\".format(component))\n",
    "    print(\"Highest\")\n",
    "    pp.pprint(sorted_movies[:10])\n",
    "    print(\"Lowest\")\n",
    "    pp.pprint(sorted_movies[-10:])"
   ]
  },
  {
   "cell_type": "code",
   "execution_count": 45,
   "metadata": {},
   "outputs": [
    {
     "name": "stdout",
     "output_type": "stream",
     "text": [
      "COMPONENT 0\n",
      "Highest\n",
      "[(0.068440646, 'Island of Dr. Moreau, The (1996)'),\n",
      " (0.06708388, 'Flintstones, The (1994)'),\n",
      " (0.066391572, 'George of the Jungle (1997)'),\n",
      " (0.065295324, 'Escape from L.A. (1996)'),\n",
      " (0.06177314, 'Bio-Dome (1996)'),\n",
      " (0.060572643, 'Volcano (1997)'),\n",
      " (0.058098994, 'Another Stakeout (1993)'),\n",
      " (0.055939771, 'Striptease (1996)'),\n",
      " (0.05542089, 'Booty Call (1997)'),\n",
      " (0.054703224, 'Sgt. Bilko (1996)')]\n",
      "Lowest\n",
      "[(-0.065547727, \"Schindler's List (1993)\"),\n",
      " (-0.066286311, 'Silence of the Lambs, The (1991)'),\n",
      " (-0.06684573, 'Close Shave, A (1995)'),\n",
      " (-0.067127824, 'Casablanca (1942)'),\n",
      " (-0.068266936, 'Shawshank Redemption, The (1994)'),\n",
      " (-0.069126047, 'Star Wars (1977)'),\n",
      " (-0.06953273, 'Wallace & Gromit: The Best of Aardman Animation (1996)'),\n",
      " (-0.070808657, 'Rear Window (1954)'),\n",
      " (-0.071925856, 'Shall We Dance? (1996)'),\n",
      " (-0.072629355, 'Secrets & Lies (1996)')]\n"
     ]
    }
   ],
   "source": [
    "print_pca(movie_pca, 0)"
   ]
  }
 ],
 "metadata": {
  "kernelspec": {
   "display_name": "Python 3",
   "language": "python",
   "name": "python3"
  },
  "language_info": {
   "codemirror_mode": {
    "name": "ipython",
    "version": 3
   },
   "file_extension": ".py",
   "mimetype": "text/x-python",
   "name": "python",
   "nbconvert_exporter": "python",
   "pygments_lexer": "ipython3",
   "version": "3.6.1"
  }
 },
 "nbformat": 4,
 "nbformat_minor": 2
}
