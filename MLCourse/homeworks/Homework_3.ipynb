{
 "cells": [
  {
   "cell_type": "markdown",
   "metadata": {},
   "source": [
    "## Project Abstract\n",
    "\n",
    "To help people get started on their project and to make sure you are selecting an appropriate task, we will have all the teams submit an abstract. Please only submit one abstract per team.\n",
    "\n",
    "The abstract should include (at least):\n",
    "\n",
    "* Team members\n",
    "* Problem statement\n",
    "* Data you will use to solve the problem\n",
    "* Outline of how you plan on solving the problem with the data. For example, what pre-processing steps might you need to do, what models, etc. \n",
    "* Supporting documents if necessary citing past research in the area and methods used to solve the problem.\n",
    "\n",
    "The goal of this abstract is for you to think deeply about the project you will be undertaking and convince yourself (and us) that it is a meaningful and achievable project for this class.\n",
    "\n",
    "This homework is due **February 28, 2018 by 4:00 pm Utah time.** and will be submitted on learning suite."
   ]
  }
 ],
 "metadata": {
  "kernelspec": {
   "display_name": "Python 3",
   "language": "python",
   "name": "python3"
  },
  "language_info": {
   "codemirror_mode": {
    "name": "ipython",
    "version": 3
   },
   "file_extension": ".py",
   "mimetype": "text/x-python",
   "name": "python",
   "nbconvert_exporter": "python",
   "pygments_lexer": "ipython3",
   "version": "3.6.6"
  }
 },
 "nbformat": 4,
 "nbformat_minor": 2
}
