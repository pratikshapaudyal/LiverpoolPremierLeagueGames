{
 "cells": [
  {
   "cell_type": "markdown",
   "metadata": {},
   "source": [
    "## Dimensionality Reduction and Clustering\n",
    "\n",
    "For this homework we will be using some image data! Specifically, the MNIST data set. You can load this data easily with the following commands:"
   ]
  },
  {
   "cell_type": "code",
   "execution_count": 1,
   "metadata": {},
   "outputs": [],
   "source": [
    "from sklearn.datasets import fetch_mldata\n",
    "\n",
    "mnist = fetch_mldata(\"MNIST original\")\n",
    "X = mnist.data / 255.0\n",
    "y = mnist.target"
   ]
  },
  {
   "cell_type": "markdown",
   "metadata": {},
   "source": [
    "The MNIST data set is hand-drawn digits, from zero through nine.\n",
    "\n",
    "Each image is 28 pixels in height and 28 pixels in width, for a total of 784 pixels in total. Each pixel has a single pixel-value associated with it, indicating the lightness or darkness of that pixel, with higher numbers meaning darker. This pixel-value is an integer between 0 and 255, inclusive.\n",
    "\n",
    "Source: https://www.kaggle.com/c/digit-recognizer/data\n",
    "\n",
    "For this homework, perform the following with the MNIST data:\n",
    "\n",
    "1. Use PCA to reduce the dimensionality\n",
    "\n",
    "    a. How many components did you use? Why?\n",
    "    \n",
    "    b. Plot the first two components. Do you notice any trends? What is this plot showing us?\n",
    "    \n",
    "    c. Why would you use PCA? What is it doing? And what are the drawbacks?\n",
    "    \n",
    "    d. Plot some of the images, then compress them using PCA and plot again. How does it look?\n",
    "    \n",
    "2. Use t-SNE to plot the first two components (you should probably random sample around 10000 points):\n",
    "\n",
    "    a. How does this plot differ from your PCA plot?\n",
    "    \n",
    "    b. How robust is it to changes in perplexity?\n",
    "    \n",
    "    c. How robust is it to different learning rate and number of iterations?\n",
    "    \n",
    "3. Perform k-means clustering:\n",
    "\n",
    "    a. How did you choose k?\n",
    "    \n",
    "    b. How did you evaluate your clustering?\n",
    "    \n",
    "    c. Visualize your clusters using t-sne\n",
    "    \n",
    "    d. Did you scale your data?\n",
    "    \n",
    "    e. How robust is your clustering?\n",
    "    \n",
    "4. Perform hierarchical clustering:\n",
    "\n",
    "    a. Plot your dendrogram\n",
    "    \n",
    "    b. How many clusters seem reasonable based off your graph?\n",
    "    \n",
    "    c. How does your dendrogram change with different linkage methods?"
   ]
  },
  {
   "cell_type": "markdown",
   "metadata": {},
   "source": [
    "### Grading\n",
    "\n",

    "This homework is due **April 4, 2019 by midnight Utah time.** By that time, you need to have committed all your code to your github and submitted a link to your work to the TA. We can see on your Github account when you last committed code. :)\n",

    
    "\n",
    "Rubric:\n",
    "\n",
    "* Code Quality - 10%\n",
    "* Storytelling - 10%\n",
    "* PCA - 20%\n",
    "* T-SNE - 20%\n",
    "* K-means - 20%\n",
    "* Hierarchical Clustering - 20%"
   ]
  }
 ],
 "metadata": {
  "kernelspec": {
   "display_name": "Python 3",
   "language": "python",
   "name": "python3"
  },
  "language_info": {
   "codemirror_mode": {
    "name": "ipython",
    "version": 3
   },
   "file_extension": ".py",
   "mimetype": "text/x-python",
   "name": "python",
   "nbconvert_exporter": "python",
   "pygments_lexer": "ipython3",
   "version": "3.6.6"
  }
 },
 "nbformat": 4,
 "nbformat_minor": 2
}
